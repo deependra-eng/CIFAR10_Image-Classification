{
  "nbformat": 4,
  "nbformat_minor": 0,
  "metadata": {
    "colab": {
      "provenance": [],
      "gpuType": "T4"
    },
    "kernelspec": {
      "name": "python3",
      "display_name": "Python 3"
    },
    "language_info": {
      "name": "python"
    },
    "accelerator": "GPU"
  },
  "cells": [
    {
      "cell_type": "code",
      "execution_count": 51,
      "metadata": {
        "id": "iYZFGYIm_kq-"
      },
      "outputs": [],
      "source": [
        "import keras\n",
        "import matplotlib.pyplot as plt\n",
        "from keras.datasets import cifar10\n",
        "from keras.preprocessing.image import ImageDataGenerator\n",
        "from keras.models import Sequential\n",
        "from keras.layers import Dense, Dropout, Activation\n",
        "from keras.layers import Conv2D, MaxPooling2D, GlobalMaxPooling2D"
      ]
    },
    {
      "cell_type": "code",
      "source": [
        "(x_train, y_train), (x_test,y_test) = cifar10.load_data()\n",
        "x_train.shape"
      ],
      "metadata": {
        "colab": {
          "base_uri": "https://localhost:8080/"
        },
        "id": "w0nWHkZDALXk",
        "outputId": "dd57b905-1623-4bff-f8c5-521b396bef45"
      },
      "execution_count": 52,
      "outputs": [
        {
          "output_type": "execute_result",
          "data": {
            "text/plain": [
              "(50000, 32, 32, 3)"
            ]
          },
          "metadata": {},
          "execution_count": 52
        }
      ]
    },
    {
      "cell_type": "code",
      "source": [
        "plt.imshow(x_train[0])"
      ],
      "metadata": {
        "colab": {
          "base_uri": "https://localhost:8080/",
          "height": 448
        },
        "id": "UCfkNkLzBJ_m",
        "outputId": "53bc69d7-18eb-408a-8cd3-f612bf8cd4b9"
      },
      "execution_count": 53,
      "outputs": [
        {
          "output_type": "execute_result",
          "data": {
            "text/plain": [
              "<matplotlib.image.AxesImage at 0x796294618a60>"
            ]
          },
          "metadata": {},
          "execution_count": 53
        },
        {
          "output_type": "display_data",
          "data": {
            "text/plain": [
              "<Figure size 640x480 with 1 Axes>"
            ],
            "image/png": "[encoded data removed]"
          },
          "metadata": {}
        }
      ]
    },
    {
      "cell_type": "code",
      "source": [
        "num_classes = 10"
      ],
      "metadata": {
        "id": "iuJWx6RPason"
      },
      "execution_count": 54,
      "outputs": []
    },
    {
      "cell_type": "code",
      "source": [
        "print('x_train shape:', x_train.shape)\n",
        "print(x_train.shape[0], 'train samples')\n",
        "print(x_test.shape[0], 'test samples')"
      ],
      "metadata": {
        "colab": {
          "base_uri": "https://localhost:8080/"
        },
        "id": "TcVL1DBCa6EL",
        "outputId": "53138f68-705e-4eac-ae48-a7492d6a2174"
      },
      "execution_count": 55,
      "outputs": [
        {
          "output_type": "stream",
          "name": "stdout",
          "text": [
            "x_train shape: (50000, 32, 32, 3)\n",
            "50000 train samples\n",
            "10000 test samples\n"
          ]
        }
      ]
    },
    {
      "cell_type": "code",
      "source": [
        "y_train"
      ],
      "metadata": {
        "colab": {
          "base_uri": "https://localhost:8080/"
        },
        "id": "ijAJFnQsbJrC",
        "outputId": "3b4784ba-3836-425d-ae1d-0c1835afa102"
      },
      "execution_count": 56,
      "outputs": [
        {
          "output_type": "execute_result",
          "data": {
            "text/plain": [
              "array([[6],\n",
              "       [9],\n",
              "       [9],\n",
              "       ...,\n",
              "       [9],\n",
              "       [1],\n",
              "       [1]], dtype=uint8)"
            ]
          },
          "metadata": {},
          "execution_count": 56
        }
      ]
    },
    {
      "cell_type": "code",
      "source": [
        "# Convert class vectors to binary class matrices.\n",
        "y_train = keras.utils.to_categorical(y_train, num_classes)\n",
        "y_test = keras.utils.to_categorical(y_test, num_classes)"
      ],
      "metadata": {
        "id": "hHD8io5PbPVs"
      },
      "execution_count": 57,
      "outputs": []
    },
    {
      "cell_type": "code",
      "source": [
        "y_train"
      ],
      "metadata": {
        "colab": {
          "base_uri": "https://localhost:8080/"
        },
        "id": "Ai16Ca6ZbYMr",
        "outputId": "9848f1e5-3583-4123-b326-7d00ec98f9e7"
      },
      "execution_count": 58,
      "outputs": [
        {
          "output_type": "execute_result",
          "data": {
            "text/plain": [
              "array([[0., 0., 0., ..., 0., 0., 0.],\n",
              "       [0., 0., 0., ..., 0., 0., 1.],\n",
              "       [0., 0., 0., ..., 0., 0., 1.],\n",
              "       ...,\n",
              "       [0., 0., 0., ..., 0., 0., 1.],\n",
              "       [0., 1., 0., ..., 0., 0., 0.],\n",
              "       [0., 1., 0., ..., 0., 0., 0.]], dtype=float32)"
            ]
          },
          "metadata": {},
          "execution_count": 58
        }
      ]
    },
    {
      "cell_type": "code",
      "source": [
        "input_shape=x_train.shape[1:]\n",
        "input_shape"
      ],
      "metadata": {
        "colab": {
          "base_uri": "https://localhost:8080/"
        },
        "id": "T2QUWeopAzmH",
        "outputId": "8b1b70a7-9b6f-48a5-f5d3-861b376738d4"
      },
      "execution_count": 59,
      "outputs": [
        {
          "output_type": "execute_result",
          "data": {
            "text/plain": [
              "(32, 32, 3)"
            ]
          },
          "metadata": {},
          "execution_count": 59
        }
      ]
    },
    {
      "cell_type": "code",
      "source": [
        "cnn = Sequential()\n",
        "cnn.add(Conv2D(filters = 32, input_shape = input_shape, kernel_size=(3, 3), activation = 'relu', padding = 'same'))\n",
        "\n",
        "cnn.add(Conv2D(filters = 48, input_shape = input_shape, kernel_size = (3, 3), activation = 'relu', padding = 'same'))\n",
        "cnn.add(MaxPooling2D(pool_size=(2, 2)))\n",
        "cnn.add(Dropout(0.25))\n",
        "\n",
        "cnn.add(Conv2D(filters = 80, input_shape = input_shape, kernel_size = (3, 3), activation = 'relu', padding = 'same'))\n",
        "cnn.add(MaxPooling2D(pool_size=(2, 2)))\n",
        "cnn.add(Dropout(0.25))\n",
        "\n",
        "cnn.add(Conv2D(filters = 100, input_shape = input_shape, kernel_size = (3, 3), activation = 'relu', padding = 'same'))\n",
        "cnn.add(GlobalMaxPooling2D())\n",
        "cnn.add(Dropout(0.25))\n",
        "\n",
        "cnn.add(Dense(500))\n",
        "cnn.add(Activation('relu'))\n",
        "cnn.add(Dropout(0.25))\n",
        "cnn.add(Dense(num_classes))\n",
        "cnn.add(Activation('softmax'))"
      ],
      "metadata": {
        "id": "yeCYbQoXDTPz"
      },
      "execution_count": 60,
      "outputs": []
    },
    {
      "cell_type": "code",
      "source": [
        "# initiate RMSprop optimizer\n",
        "opt = keras.optimizers.Adam(lr=0.001)\n",
        "\n",
        "# Let's train the model using RMSprop\n",
        "cnn.compile(loss='categorical_crossentropy',\n",
        "              optimizer=opt,\n",
        "              metrics=['accuracy'])\n",
        "cnn.summary()"
      ],
      "metadata": {
        "colab": {
          "base_uri": "https://localhost:8080/"
        },
        "id": "yro8mNoeG3Fe",
        "outputId": "009ca4df-8b2d-4b70-da0c-63935041bd90"
      },
      "execution_count": 61,
      "outputs": [
        {
          "output_type": "stream",
          "name": "stderr",
          "text": [
            "WARNING:absl:`lr` is deprecated in Keras optimizer, please use `learning_rate` or use the legacy optimizer, e.g.,tf.keras.optimizers.legacy.Adam.\n"
          ]
        },
        {
          "output_type": "stream",
          "name": "stdout",
          "text": [
            "Model: \"sequential_5\"\n",
            "_________________________________________________________________\n",
            " Layer (type)                Output Shape              Param #   \n",
            "=================================================================\n",
            " conv2d_8 (Conv2D)           (None, 32, 32, 32)        896       \n",
            "                                                                 \n",
            " conv2d_9 (Conv2D)           (None, 32, 32, 48)        13872     \n",
            "                                                                 \n",
            " max_pooling2d_4 (MaxPoolin  (None, 16, 16, 48)        0         \n",
            " g2D)                                                            \n",
            "                                                                 \n",
            " dropout_8 (Dropout)         (None, 16, 16, 48)        0         \n",
            "                                                                 \n",
            " conv2d_10 (Conv2D)          (None, 16, 16, 80)        34640     \n",
            "                                                                 \n",
            " max_pooling2d_5 (MaxPoolin  (None, 8, 8, 80)          0         \n",
            " g2D)                                                            \n",
            "                                                                 \n",
            " dropout_9 (Dropout)         (None, 8, 8, 80)          0         \n",
            "                                                                 \n",
            " conv2d_11 (Conv2D)          (None, 8, 8, 100)         72100     \n",
            "                                                                 \n",
            " global_max_pooling2d_2 (Gl  (None, 100)               0         \n",
            " obalMaxPooling2D)                                               \n",
            "                                                                 \n",
            " dropout_10 (Dropout)        (None, 100)               0         \n",
            "                                                                 \n",
            " dense_4 (Dense)             (None, 500)               50500     \n",
            "                                                                 \n",
            " activation_4 (Activation)   (None, 500)               0         \n",
            "                                                                 \n",
            " dropout_11 (Dropout)        (None, 500)               0         \n",
            "                                                                 \n",
            " dense_5 (Dense)             (None, 10)                5010      \n",
            "                                                                 \n",
            " activation_5 (Activation)   (None, 10)                0         \n",
            "                                                                 \n",
            "=================================================================\n",
            "Total params: 177018 (691.48 KB)\n",
            "Trainable params: 177018 (691.48 KB)\n",
            "Non-trainable params: 0 (0.00 Byte)\n",
            "_________________________________________________________________\n"
          ]
        }
      ]
    },
    {
      "cell_type": "code",
      "source": [
        "#Normalizing the data\n",
        "x_train = x_train.astype('float32')\n",
        "x_test = x_test.astype('float32')\n",
        "x_train /= 255\n",
        "x_test /= 255"
      ],
      "metadata": {
        "id": "iLQylLlAHUG4"
      },
      "execution_count": 62,
      "outputs": []
    },
    {
      "cell_type": "code",
      "source": [
        "cnn_model1 = cnn.fit(x_train, y_train,batch_size=32,epochs=50,validation_data=(x_test, y_test),shuffle=True)\n"
      ],
      "metadata": {
        "colab": {
          "base_uri": "https://localhost:8080/"
        },
        "id": "QbWBNhyZVB9A",
        "outputId": "75b71b3e-50c6-4bd0-bc63-639376681329"
      },
      "execution_count": 63,
      "outputs": [
        {
          "output_type": "stream",
          "name": "stdout",
          "text": [
            "Epoch 1/50\n",
            "1563/1563 [==============================] - 13s 7ms/step - loss: 1.7024 - accuracy: 0.3605 - val_loss: 1.3310 - val_accuracy: 0.5102\n",
            "Epoch 2/50\n",
            "1563/1563 [==============================] - 10s 7ms/step - loss: 1.3192 - accuracy: 0.5190 - val_loss: 1.1229 - val_accuracy: 0.6040\n",
            "Epoch 3/50\n",
            "1563/1563 [==============================] - 10s 7ms/step - loss: 1.1639 - accuracy: 0.5776 - val_loss: 1.0213 - val_accuracy: 0.6339\n",
            "Epoch 4/50\n",
            "1563/1563 [==============================] - 11s 7ms/step - loss: 1.0762 - accuracy: 0.6151 - val_loss: 0.9055 - val_accuracy: 0.6792\n",
            "Epoch 5/50\n",
            "1563/1563 [==============================] - 11s 7ms/step - loss: 1.0177 - accuracy: 0.6387 - val_loss: 0.8783 - val_accuracy: 0.6954\n",
            "Epoch 6/50\n",
            "1563/1563 [==============================] - 12s 8ms/step - loss: 0.9702 - accuracy: 0.6568 - val_loss: 0.8763 - val_accuracy: 0.7042\n",
            "Epoch 7/50\n",
            "1563/1563 [==============================] - 11s 7ms/step - loss: 0.9441 - accuracy: 0.6654 - val_loss: 0.8102 - val_accuracy: 0.7208\n",
            "Epoch 8/50\n",
            "1563/1563 [==============================] - 11s 7ms/step - loss: 0.9129 - accuracy: 0.6743 - val_loss: 0.8248 - val_accuracy: 0.7078\n",
            "Epoch 9/50\n",
            "1563/1563 [==============================] - 10s 7ms/step - loss: 0.8941 - accuracy: 0.6844 - val_loss: 0.7765 - val_accuracy: 0.7313\n",
            "Epoch 10/50\n",
            "1563/1563 [==============================] - 11s 7ms/step - loss: 0.8768 - accuracy: 0.6908 - val_loss: 0.7701 - val_accuracy: 0.7273\n",
            "Epoch 11/50\n",
            "1563/1563 [==============================] - 10s 6ms/step - loss: 0.8592 - accuracy: 0.6962 - val_loss: 0.7487 - val_accuracy: 0.7474\n",
            "Epoch 12/50\n",
            "1563/1563 [==============================] - 10s 7ms/step - loss: 0.8433 - accuracy: 0.7047 - val_loss: 0.7854 - val_accuracy: 0.7260\n",
            "Epoch 13/50\n",
            "1563/1563 [==============================] - 10s 7ms/step - loss: 0.8304 - accuracy: 0.7045 - val_loss: 0.7579 - val_accuracy: 0.7407\n",
            "Epoch 14/50\n",
            "1563/1563 [==============================] - 11s 7ms/step - loss: 0.8194 - accuracy: 0.7102 - val_loss: 0.7147 - val_accuracy: 0.7532\n",
            "Epoch 15/50\n",
            "1563/1563 [==============================] - 10s 7ms/step - loss: 0.8062 - accuracy: 0.7175 - val_loss: 0.7230 - val_accuracy: 0.7486\n",
            "Epoch 16/50\n",
            "1563/1563 [==============================] - 11s 7ms/step - loss: 0.8028 - accuracy: 0.7196 - val_loss: 0.7543 - val_accuracy: 0.7396\n",
            "Epoch 17/50\n",
            "1563/1563 [==============================] - 11s 7ms/step - loss: 0.7965 - accuracy: 0.7218 - val_loss: 0.6907 - val_accuracy: 0.7613\n",
            "Epoch 18/50\n",
            "1563/1563 [==============================] - 10s 7ms/step - loss: 0.7770 - accuracy: 0.7288 - val_loss: 0.6884 - val_accuracy: 0.7643\n",
            "Epoch 19/50\n",
            "1563/1563 [==============================] - 11s 7ms/step - loss: 0.7785 - accuracy: 0.7258 - val_loss: 0.7022 - val_accuracy: 0.7628\n",
            "Epoch 20/50\n",
            "1563/1563 [==============================] - 10s 7ms/step - loss: 0.7749 - accuracy: 0.7335 - val_loss: 0.6855 - val_accuracy: 0.7683\n",
            "Epoch 21/50\n",
            "1563/1563 [==============================] - 10s 7ms/step - loss: 0.7605 - accuracy: 0.7342 - val_loss: 0.6844 - val_accuracy: 0.7615\n",
            "Epoch 22/50\n",
            "1563/1563 [==============================] - 11s 7ms/step - loss: 0.7550 - accuracy: 0.7346 - val_loss: 0.7261 - val_accuracy: 0.7517\n",
            "Epoch 23/50\n",
            "1563/1563 [==============================] - 10s 6ms/step - loss: 0.7541 - accuracy: 0.7375 - val_loss: 0.6655 - val_accuracy: 0.7797\n",
            "Epoch 24/50\n",
            "1563/1563 [==============================] - 11s 7ms/step - loss: 0.7466 - accuracy: 0.7390 - val_loss: 0.6728 - val_accuracy: 0.7769\n",
            "Epoch 25/50\n",
            "1563/1563 [==============================] - 10s 7ms/step - loss: 0.7437 - accuracy: 0.7428 - val_loss: 0.6796 - val_accuracy: 0.7710\n",
            "Epoch 26/50\n",
            "1563/1563 [==============================] - 11s 7ms/step - loss: 0.7368 - accuracy: 0.7428 - val_loss: 0.6599 - val_accuracy: 0.7789\n",
            "Epoch 27/50\n",
            "1563/1563 [==============================] - 10s 7ms/step - loss: 0.7359 - accuracy: 0.7436 - val_loss: 0.6678 - val_accuracy: 0.7807\n",
            "Epoch 28/50\n",
            "1563/1563 [==============================] - 10s 7ms/step - loss: 0.7332 - accuracy: 0.7440 - val_loss: 0.6420 - val_accuracy: 0.7806\n",
            "Epoch 29/50\n",
            "1563/1563 [==============================] - 10s 7ms/step - loss: 0.7217 - accuracy: 0.7478 - val_loss: 0.6591 - val_accuracy: 0.7779\n",
            "Epoch 30/50\n",
            "1563/1563 [==============================] - 11s 7ms/step - loss: 0.7206 - accuracy: 0.7479 - val_loss: 0.6676 - val_accuracy: 0.7763\n",
            "Epoch 31/50\n",
            "1563/1563 [==============================] - 10s 7ms/step - loss: 0.7172 - accuracy: 0.7506 - val_loss: 0.6456 - val_accuracy: 0.7858\n",
            "Epoch 32/50\n",
            "1563/1563 [==============================] - 11s 7ms/step - loss: 0.7190 - accuracy: 0.7504 - val_loss: 0.6364 - val_accuracy: 0.7847\n",
            "Epoch 33/50\n",
            "1563/1563 [==============================] - 11s 7ms/step - loss: 0.7206 - accuracy: 0.7520 - val_loss: 0.6444 - val_accuracy: 0.7858\n",
            "Epoch 34/50\n",
            "1563/1563 [==============================] - 10s 7ms/step - loss: 0.7101 - accuracy: 0.7534 - val_loss: 0.6203 - val_accuracy: 0.7933\n",
            "Epoch 35/50\n",
            "1563/1563 [==============================] - 10s 7ms/step - loss: 0.7074 - accuracy: 0.7511 - val_loss: 0.6731 - val_accuracy: 0.7700\n",
            "Epoch 36/50\n",
            "1563/1563 [==============================] - 11s 7ms/step - loss: 0.7050 - accuracy: 0.7552 - val_loss: 0.6553 - val_accuracy: 0.7821\n",
            "Epoch 37/50\n",
            "1563/1563 [==============================] - 11s 7ms/step - loss: 0.7036 - accuracy: 0.7571 - val_loss: 0.6488 - val_accuracy: 0.7855\n",
            "Epoch 38/50\n",
            "1563/1563 [==============================] - 11s 7ms/step - loss: 0.7041 - accuracy: 0.7560 - val_loss: 0.6435 - val_accuracy: 0.7829\n",
            "Epoch 39/50\n",
            "1563/1563 [==============================] - 10s 7ms/step - loss: 0.7063 - accuracy: 0.7541 - val_loss: 0.6124 - val_accuracy: 0.7987\n",
            "Epoch 40/50\n",
            "1563/1563 [==============================] - 11s 7ms/step - loss: 0.6988 - accuracy: 0.7578 - val_loss: 0.6401 - val_accuracy: 0.7811\n",
            "Epoch 41/50\n",
            "1563/1563 [==============================] - 12s 7ms/step - loss: 0.6875 - accuracy: 0.7603 - val_loss: 0.6361 - val_accuracy: 0.7859\n",
            "Epoch 42/50\n",
            "1563/1563 [==============================] - 10s 7ms/step - loss: 0.6939 - accuracy: 0.7598 - val_loss: 0.6436 - val_accuracy: 0.7815\n",
            "Epoch 43/50\n",
            "1563/1563 [==============================] - 10s 6ms/step - loss: 0.6916 - accuracy: 0.7590 - val_loss: 0.6179 - val_accuracy: 0.7886\n",
            "Epoch 44/50\n",
            "1563/1563 [==============================] - 10s 7ms/step - loss: 0.6905 - accuracy: 0.7582 - val_loss: 0.6581 - val_accuracy: 0.7822\n",
            "Epoch 45/50\n",
            "1563/1563 [==============================] - 10s 7ms/step - loss: 0.6905 - accuracy: 0.7608 - val_loss: 0.6338 - val_accuracy: 0.7838\n",
            "Epoch 46/50\n",
            "1563/1563 [==============================] - 10s 7ms/step - loss: 0.6821 - accuracy: 0.7630 - val_loss: 0.6265 - val_accuracy: 0.7870\n",
            "Epoch 47/50\n",
            "1563/1563 [==============================] - 10s 7ms/step - loss: 0.6849 - accuracy: 0.7621 - val_loss: 0.6126 - val_accuracy: 0.7968\n",
            "Epoch 48/50\n",
            "1563/1563 [==============================] - 10s 7ms/step - loss: 0.6797 - accuracy: 0.7639 - val_loss: 0.6662 - val_accuracy: 0.7777\n",
            "Epoch 49/50\n",
            "1563/1563 [==============================] - 10s 6ms/step - loss: 0.6858 - accuracy: 0.7635 - val_loss: 0.6242 - val_accuracy: 0.7908\n",
            "Epoch 50/50\n",
            "1563/1563 [==============================] - 11s 7ms/step - loss: 0.6730 - accuracy: 0.7628 - val_loss: 0.6383 - val_accuracy: 0.7830\n"
          ]
        }
      ]
    },
    {
      "cell_type": "code",
      "source": [
        "import matplotlib.pyplot as plt\n",
        "\n",
        "# Get training and validation accuracy values\n",
        "train_acc = cnn_model1.history['accuracy']\n",
        "val_acc = cnn_model1.history['val_accuracy']\n",
        "\n",
        "# Create count of the number of epochs\n",
        "epoch_count = range(1, len(train_acc) + 1)\n",
        "\n",
        "# Visualize accuracy history\n",
        "plt.plot(epoch_count, train_acc, 'r--')\n",
        "plt.plot(epoch_count, val_acc, 'b-')\n",
        "plt.legend(['Training Accuracy', 'Validation Accuracy'])\n",
        "plt.xlabel('Epoch')\n",
        "plt.ylabel('Accuracy')\n",
        "plt.title('Training and Validation Accuracy')\n",
        "plt.show()"
      ],
      "metadata": {
        "colab": {
          "base_uri": "https://localhost:8080/",
          "height": 472
        },
        "id": "FzFbtvtfQoFN",
        "outputId": "5453e264-f255-4431-fb66-9dc0f74ca5ff"
      },
      "execution_count": 64,
      "outputs": [
        {
          "output_type": "display_data",
          "data": {
            "text/plain": [
              "<Figure size 640x480 with 1 Axes>"
            ],
            "image/png": "[encoded data removed]"
          },
          "metadata": {}
        }
      ]
    },
    {
      "cell_type": "markdown",
      "source": [
        "It looks like your model's performance after 50 epochs is as follows:\n",
        "\n",
        "Training loss: 0.6730\n",
        "Training accuracy: 76.28%\n",
        "Validation loss: 0.6383\n",
        "Validation accuracy: 78.30%\n",
        "This indicates that the model is performing reasonably well."
      ],
      "metadata": {
        "id": "vkCFYT3bbyJX"
      }
    }
  ]
}